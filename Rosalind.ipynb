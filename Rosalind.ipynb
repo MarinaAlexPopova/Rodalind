{
 "cells": [
  {
   "cell_type": "markdown",
   "id": "4fe265f2",
   "metadata": {},
   "source": [
    "# Chaining the Amino Acids\n",
    "\n",
    "Problem\n",
    "In a weighted alphabet, every symbol is assigned a positive real number called a weight. A string formed from a weighted alphabet is called a weighted string, and its weight is equal to the sum of the weights of its symbols.\n",
    "\n",
    "The standard weight assigned to each member of the 20-symbol amino acid alphabet is the monoisotopic mass of the corresponding amino acid.\n",
    "\n",
    "Given: A protein string P of length at most 1000 aa.\n",
    "\n",
    "Return: The total weight of P. Consult the monoisotopic mass table."
   ]
  },
  {
   "cell_type": "code",
   "execution_count": 1,
   "id": "47a76c9a",
   "metadata": {},
   "outputs": [],
   "source": [
    "with open('rosalind_prtm.txt') as f:\n",
    "    protein = f.read().rstrip('\\n')"
   ]
  },
  {
   "cell_type": "code",
   "execution_count": 2,
   "id": "7b8b25d6",
   "metadata": {},
   "outputs": [
    {
     "data": {
      "text/plain": [
       "98124.65"
      ]
     },
     "execution_count": 2,
     "metadata": {},
     "output_type": "execute_result"
    }
   ],
   "source": [
    "weight = {'A': 71.03711, 'C': 103.00919, 'D': 115.02694, 'E': 129.04259, 'F': 147.06841, 'G': 57.02146, \n",
    "          'H': 137.05891, 'I': 113.08406, 'K': 128.09496, 'L': 113.08406, 'M': 131.04049, 'N': 114.04293, \n",
    "          'P': 97.05276, 'Q': 128.05858, 'R': 156.10111, 'S': 87.03203, 'T': 101.04768, 'V': 99.06841, \n",
    "          'W': 186.07931, 'Y': 163.06333}\n",
    "\n",
    "proteins_weight = 0\n",
    "for i in protein:\n",
    "    proteins_weight += weight[i]\n",
    "    \n",
    "round(proteins_weight, 3)"
   ]
  },
  {
   "cell_type": "markdown",
   "id": "922e3fdb",
   "metadata": {},
   "source": [
    "# Combing Through the Haystack\n",
    "\n",
    "Problem  \n",
    "Given two strings s and t, t is a substring of s if t is contained as a contiguous collection of symbols in s (as a result, t must be no longer than s).\n",
    "\n",
    "The position of a symbol in a string is the total number of symbols found to its left, including itself (e.g., the positions of all occurrences of 'U' in \"AUGCUUCAGAAAGGUCUUACG\" are 2, 5, 6, 15, 17, and 18). The symbol at position i of s is denoted by s[i].\n",
    "\n",
    "A substring of s can be represented as s[j:k], where j and k represent the starting and ending positions of the substring in s; for example, if s = \"AUGCUUCAGAAAGGUCUUACG\", then s[2:5] = \"UGCU\".\n",
    "\n",
    "The location of a substring s[j:k] is its beginning position j; note that t will have multiple locations in s if it occurs more than once as a substring of s (see the Sample below).\n",
    "\n",
    "Given: Two DNA strings s and t (each of length at most 1 kbp).\n",
    "\n",
    "Return: All locations of t as a substring of s."
   ]
  },
  {
   "cell_type": "code",
   "execution_count": 3,
   "id": "5fc78a8f",
   "metadata": {},
   "outputs": [],
   "source": [
    "with open('rosalind_subs.txt') as f:\n",
    "    s = f.readline().rstrip('\\n')\n",
    "    t = f.readline().rstrip('\\n')"
   ]
  },
  {
   "cell_type": "code",
   "execution_count": 4,
   "id": "a83c3a7b",
   "metadata": {},
   "outputs": [
    {
     "data": {
      "text/plain": [
       "'11 18 68 78 97 125 183 198 326 364 371 386 434 455 535 542 597 625 632 639 646 670 730 766 783'"
      ]
     },
     "execution_count": 4,
     "metadata": {},
     "output_type": "execute_result"
    }
   ],
   "source": [
    "ans = []\n",
    "for i in range(len(s)):\n",
    "    if s[i:i+len(t)] == t:\n",
    "        ans.append(i + 1)\n",
    "        \n",
    "' '.join(str(x) for x in ans)"
   ]
  },
  {
   "cell_type": "markdown",
   "id": "1b9af3de",
   "metadata": {},
   "source": [
    "# Counting DNA Nucleotides\n",
    "\n",
    "Problem\n",
    "A string is simply an ordered collection of symbols selected from some alphabet and formed into a word; the length of a string is the number of symbols that it contains.\n",
    "\n",
    "An example of a length 21 DNA string (whose alphabet contains the symbols 'A', 'C', 'G', and 'T') is \"ATGCTTCAGAAAGGTCTTACG.\"\n",
    "\n",
    "Given: A DNA string s of length at most 1000 nt.\n",
    "\n",
    "Return: Four integers (separated by spaces) counting the respective number of times that the symbols 'A', 'C', 'G', and 'T' occur in s."
   ]
  },
  {
   "cell_type": "code",
   "execution_count": 5,
   "id": "1a0a1308",
   "metadata": {},
   "outputs": [],
   "source": [
    "with open('rosalind_dna.txt') as f:\n",
    "    dna = f.readline()"
   ]
  },
  {
   "cell_type": "code",
   "execution_count": 6,
   "id": "5dedc908",
   "metadata": {},
   "outputs": [
    {
     "name": "stdout",
     "output_type": "stream",
     "text": [
      "231 242 202 209\n"
     ]
    }
   ],
   "source": [
    "print(dna.count('A'), dna.count('C'), dna.count('G'), dna.count('T'))"
   ]
  },
  {
   "cell_type": "markdown",
   "id": "e2c678a6",
   "metadata": {},
   "source": [
    "# Finding a Shared Spliced Motif\n",
    "\n",
    "Problem\n",
    "A string u is a common subsequence of strings s and t if the symbols of u appear in order as a subsequence of both s and t. For example, \"ACTG\" is a common subsequence of \"AACCTTGG\" and \"ACACTGTGA\".\n",
    "\n",
    "Analogously to the definition of longest common substring, u is a longest common subsequence of s and t if there does not exist a longer common subsequence of the two strings. Continuing our above example, \"ACCTTG\" is a longest common subsequence of \"AACCTTGG\" and \"ACACTGTGA\", as is \"AACTGG\".\n",
    "\n",
    "Given: Two DNA strings s and t (each having length at most 1 kbp) in FASTA format.\n",
    "\n",
    "Return: A longest common subsequence of s and t. (If more than one solution exists, you may return any one.)"
   ]
  },
  {
   "cell_type": "code",
   "execution_count": 7,
   "id": "c91447ea",
   "metadata": {},
   "outputs": [],
   "source": [
    "with open('rosalind_lcsq.txt') as f:\n",
    "    data = f.read()\n",
    "data = data.replace('\\n', '')\n",
    "data = data.replace('Rosalind_', '')\n",
    "data = data.split('>')\n",
    "data = data[1:]\n",
    "S = data[0][4:]\n",
    "T = data[1][4:]"
   ]
  },
  {
   "cell_type": "code",
   "execution_count": 8,
   "id": "4f9ab520",
   "metadata": {},
   "outputs": [
    {
     "name": "stdout",
     "output_type": "stream",
     "text": [
      "CTGCGCCGAATAGTCAAAGTGAACTTTGACAGAACAAGGTGTCCTAACTCTAAAGTCACCCATCGGTAAGTTGGATCTCGTGGGGAGTAGTATTGCCCCCTCAGGGGGTTTTGGACATTCCATCACACGTCGCACGGGCGTAATATTTTTTTCAGGATTACCCGGACTTGCGGATGAGTAGGGTAATTGGGCCCATTCCTCGAGGAACAGTACCGCCAGCAAAGTTTAAGACGTACCATGCAGACAGGCTGTAGGATCGAGATTTGTCCTAGCGATGGGCCGTTTGACGAAAGGAATGGTGGGTGACGGCTTGCTTGAGCAAGGTCCAAAGGCAGTCACGCCTAGTATTATATGCGCAGAATCTAGTGAATCTGTCCGGGCGATCTCGTCTCTAAGGGGGGGCGGGAAACACTGCAGAGTTGAATCCAGTAATAGTGCGTTTTTTCAAGTAGTTCAAAACTATTGTAACTTTTTCGCAAGCCTGCCCGCTATAGTGGCGTTGTAGGACTTCATGTAGGGATCGTTAGAAGGGGGCCGTTATTGTGAGGGCCTGGGGTTTGTGGTTGAG\n"
     ]
    }
   ],
   "source": [
    "S = data[0][4:]\n",
    "T = data[1][4:]\n",
    "cur = [''] * (len(T) + 1) #dummy entries as per wiki\n",
    "for s in S:\n",
    "    last, cur = cur, [''] \n",
    "    for i, t in enumerate(T):\n",
    "        cur.append(last[i] + s if s==t else max(last[i+1], cur[-1], key=len))\n",
    "print(cur[-1])"
   ]
  },
  {
   "cell_type": "markdown",
   "id": "5ffb25fe",
   "metadata": {},
   "source": [
    "# Finding a Spliced Motif\n",
    "\n",
    "Problem\n",
    "A subsequence of a string is a collection of symbols contained in order (though not necessarily contiguously) in the string (e.g., ACG is a subsequence of TATGCTAAGATC). The indices of a subsequence are the positions in the string at which the symbols of the subsequence appear; thus, the indices of ACG in TATGCTAAGATC can be represented by (2, 5, 9).\n",
    "\n",
    "As a substring can have multiple locations, a subsequence can have multiple collections of indices, and the same index can be reused in more than one appearance of the subsequence; for example, ACG is a subsequence of AACCGGTT in 8 different ways.\n",
    "\n",
    "Given: Two DNA strings s and t (each of length at most 1 kbp) in FASTA format.\n",
    "\n",
    "Return: One collection of indices of s in which the symbols of t appear as a subsequence of s. If multiple solutions exist, you may return any one.\n",
    "\n",
    "NOTE! indices starts with 1!!!"
   ]
  },
  {
   "cell_type": "code",
   "execution_count": 9,
   "id": "bb8fdbef",
   "metadata": {},
   "outputs": [],
   "source": [
    "with open('rosalind_sseq.txt') as f:\n",
    "    file = f.read().split('>')\n",
    "file = file[1:]\n",
    "string = file[0][13:].replace('\\n', '')\n",
    "substring = file[1][13:].replace('\\n', '')"
   ]
  },
  {
   "cell_type": "code",
   "execution_count": 10,
   "id": "fed1526c",
   "metadata": {},
   "outputs": [
    {
     "data": {
      "text/plain": [
       "'2 3 5 6 7 8 10 23 28 34 37 40 41 45 54 56 60 63 67 78 80 84 86 101 107 114 120 122 128 129 135 136 140 141 144 145 147 154 162 163 164 166 176 181 189 190 193 199 205 210 213 217 218 226 227 238 250 252 256 257 271 276 277 284 287 288 290 293 294'"
      ]
     },
     "execution_count": 10,
     "metadata": {},
     "output_type": "execute_result"
    }
   ],
   "source": [
    "ans = [string.index(substring[0])]\n",
    "for i in range(1, len(substring)):\n",
    "    a = string[ans[i-1]+1:].index(substring[i]) + ans[i-1]+1\n",
    "    ans.append(a)\n",
    "\n",
    "' '.join(str(i+1) for i in ans)"
   ]
  },
  {
   "cell_type": "markdown",
   "id": "0a43f7ad",
   "metadata": {},
   "source": [
    "# Genes are Discontiguous\n",
    "\n",
    "Problem After identifying the exons and introns of an RNA string, we only need to delete the introns and concatenate the exons to form a new string ready for translation.\n",
    "\n",
    "Given: A DNA string s (of length at most 1 kbp) and a collection of substrings of s acting as introns. All strings are given in FASTA format.\n",
    "\n",
    "Return: A protein string resulting from transcribing and translating the exons of s. (Note: Only one solution will exist for the dataset provided.)\n"
   ]
  },
  {
   "cell_type": "code",
   "execution_count": 11,
   "id": "30c27e75",
   "metadata": {},
   "outputs": [],
   "source": [
    "with open('rosalind_splc.txt') as f:\n",
    "    data = f.read()\n",
    "data = data.replace('\\n', '')\n",
    "data = data.split('>')\n",
    "data = data[1:]"
   ]
  },
  {
   "cell_type": "code",
   "execution_count": 12,
   "id": "b3abbfb0",
   "metadata": {},
   "outputs": [
    {
     "name": "stdout",
     "output_type": "stream",
     "text": [
      "MPSDQIVMTEERIESLLTTSVCDMRSALSNYSRGSNASPRCMLINYTFRTHGIPGGQRVREETEGVRLHDPTWSIVELFTISRVQSVLLPKVIVELTLNDISQNTCLYIHCQERHASFSPSTSIPHANTLCTLERRASGGRSVAEIRWYRNYPSRPSARRSTGVQSVPLRLLRRTA\n"
     ]
    }
   ],
   "source": [
    "s = data[0][13:]\n",
    "data = data[1:]\n",
    "for i in data:\n",
    "    s = s.replace(i[13:], '')\n",
    "\n",
    "protein = {'TTT':'F', 'CTT': 'L', 'ATT': 'I', 'GTT': 'V', 'TTC': 'F', 'CTC': 'L', 'ATC': 'I', 'GTC': 'V', \n",
    "           'TTA': 'L', 'CTA': 'L', 'ATA': 'I', 'GTA': 'V', 'TTG': 'L', 'CTG': 'L', 'ATG': 'M', 'GTG': 'V',\n",
    "           'TCT': 'S', 'CCT': 'P', 'ACT': 'T', 'GCT': 'A', 'TCC': 'S', 'CCC': 'P', 'ACC': 'T', 'GCC': 'A',\n",
    "           'TCA': 'S', 'CCA': 'P', 'ACA': 'T', 'GCA': 'A', 'TCG': 'S', 'CCG': 'P', 'ACG': 'T', 'GCG': 'A',\n",
    "           'TAT': 'Y', 'CAT': 'H', 'AAT': 'N', 'GAT': 'D', 'TAC': 'Y', 'CAC': 'H', 'AAC': 'N', 'GAC': 'D',\n",
    "           'TAA': 'Stop', 'CAA': 'Q', 'AAA': 'K', 'GAA': 'E', 'TAG': 'Stop', 'CAG': 'Q', 'AAG': 'K', 'GAG': 'E',\n",
    "           'TGT': 'C', 'CGT': 'R', 'AGT': 'S', 'GGT': 'G', 'TGC': 'C', 'CGC': 'R', 'AGC': 'S', 'GGC': 'G',\n",
    "           'TGA': 'Stop', 'CGA': 'R', 'AGA': 'R', 'GGA': 'G', 'TGG': 'W', 'CGG': 'R', 'AGG': 'R', 'GGG': 'G'} \n",
    "\n",
    "k = 0\n",
    "ps = []\n",
    "for i in range(3, len(s)+1, 3):\n",
    "    p = protein[s[k:i]]\n",
    "    if p != 'Stop':\n",
    "        ps.append(p)\n",
    "    k = i\n",
    "    \n",
    "print(''.join(ps))"
   ]
  },
  {
   "cell_type": "markdown",
   "id": "6b57f15b",
   "metadata": {},
   "source": [
    "# Identifying Unknown DNA Quickly\n",
    "\n",
    "Problem\n",
    "\n",
    "The GC-content of a DNA string is given by the percentage of symbols in the string that are 'C' or 'G'. For example, the GC-content of \"AGCTATAG\" is 37.5%. Note that the reverse complement of any DNA string has the same GC-content.\n",
    "\n",
    "DNA strings must be labeled when they are consolidated into a database. A commonly used method of string labeling is called FASTA format. In this format, the string is introduced by a line that begins with '>', followed by some labeling information. Subsequent lines contain the string itself; the first line to begin with '>' indicates the label of the next string.\n",
    "\n",
    "In Rosalind's implementation, a string in FASTA format will be labeled by the ID \"Rosalind_xxxx\", where \"xxxx\" denotes a four-digit code between 0000 and 9999.\n",
    "\n",
    "Given: At most 10 DNA strings in FASTA format (of length at most 1 kbp each).\n",
    "\n",
    "Return: The ID of the string having the highest GC-content, followed by the GC-content of that string. Rosalind allows for a default error of 0.001 in all decimal answers unless otherwise stated; please see the note on absolute error below."
   ]
  },
  {
   "cell_type": "code",
   "execution_count": 13,
   "id": "9b87fae0",
   "metadata": {},
   "outputs": [],
   "source": [
    "with open('rosalind_gc.txt') as f:\n",
    "    data = f.read()\n",
    "\n",
    "data = data.split('>')\n",
    "data = data[1:]"
   ]
  },
  {
   "cell_type": "code",
   "execution_count": 14,
   "id": "f9820fd1",
   "metadata": {},
   "outputs": [
    {
     "name": "stdout",
     "output_type": "stream",
     "text": [
      "Rosalind_6888\n",
      "53.125\n",
      "CPU times: user 611 µs, sys: 0 ns, total: 611 µs\n",
      "Wall time: 713 µs\n"
     ]
    }
   ],
   "source": [
    "%%time \n",
    "\n",
    "k = 0\n",
    "p = 0\n",
    "ind = 0\n",
    "for i in data:\n",
    "    a = i[:13]\n",
    "    b = i[14:]\n",
    "    b = b.replace('\\n', '')\n",
    "    p_a = (b.count('C') + b.count('G'))/len(b)\n",
    "    if p_a > p:\n",
    "        p = p_a\n",
    "        ind = k\n",
    "    k += 1\n",
    "\n",
    "print(data[ind][:13])\n",
    "print(round(p*100, 6))"
   ]
  },
  {
   "cell_type": "markdown",
   "id": "621b2610",
   "metadata": {},
   "source": [
    "# Calculating Expected Offspring\n",
    "\n",
    "Problem\n",
    "For a random variable X taking integer values between 1 and n, the expected value of X is E(X)=∑nk=1k×Pr(X=k). The expected value offers us a way of taking the long-term average of a random variable over a large number of trials.\n",
    "\n",
    "As a motivating example, let X be the number on a six-sided die. Over a large number of rolls, we should expect to obtain an average of 3.5 on the die (even though it's not possible to roll a 3.5). The formula for expected value confirms that E(X)=∑6k=1k×Pr(X=k)=3.5.\n",
    "\n",
    "More generally, a random variable for which every one of a number of equally spaced outcomes has the same probability is called a uniform random variable (in the die example, this \"equal spacing\" is equal to 1). We can generalize our die example to find that if X is a uniform random variable with minimum possible value a and maximum possible value b, then E(X)=a+b2. You may also wish to verify that for the dice example, if Y is the random variable associated with the outcome of a second die roll, then E(X+Y)=7.\n",
    "\n",
    "Given: Six nonnegative integers, each of which does not exceed 20,000. The integers correspond to the number of couples in a population possessing each genotype pairing for a given factor. In order, the six given integers represent the number of couples having the following genotypes:\n",
    "\n",
    "1.AA-AA\n",
    "2.AA-Aa\n",
    "3.AA-aa\n",
    "4.Aa-Aa\n",
    "5.Aa-aa\n",
    "6.aa-aa\n",
    "\n",
    "Return: The expected number of offspring displaying the dominant phenotype in the next generation, under the assumption that every couple has exactly two offspring."
   ]
  },
  {
   "cell_type": "code",
   "execution_count": 17,
   "id": "6a95fdd5",
   "metadata": {},
   "outputs": [
    {
     "name": "stdout",
     "output_type": "stream",
     "text": [
      "18826 19777 16766 17262 19500 17149\n"
     ]
    }
   ],
   "source": [
    "data = list(map(int, input().split()))"
   ]
  },
  {
   "cell_type": "code",
   "execution_count": 18,
   "id": "8c8e358e",
   "metadata": {},
   "outputs": [
    {
     "name": "stdout",
     "output_type": "stream",
     "text": [
      "156131.0\n"
     ]
    }
   ],
   "source": [
    "n = 2  #every couple has exactly two offspring.\n",
    "prob = [1, 1, 1, 0.75, 0.5, 0]   #probabilities of dominant phenotype\n",
    "def n_offspring(d):\n",
    "    return sum([n * i[0] * i[1] for i in list(zip(d, prob))])\n",
    "print(n_offspring(data))"
   ]
  },
  {
   "cell_type": "markdown",
   "id": "19e6bb44",
   "metadata": {},
   "source": [
    "# Counting Point Mutations\n",
    "\n",
    "Problem\n",
    "\n",
    "Figure 2. The Hamming distance between these two strings is 7. Mismatched symbols are colored red. Given two strings s and t of equal length, the Hamming distance between s and t, denoted dH(s,t), is the number of corresponding symbols that differ in s and t. See Figure 2.\n",
    "\n",
    "Given: Two DNA strings s and t of equal length (not exceeding 1 kbp).\n",
    "\n",
    "Return: The Hamming distance dH(s,t)."
   ]
  },
  {
   "cell_type": "code",
   "execution_count": 19,
   "id": "0da87875",
   "metadata": {},
   "outputs": [],
   "source": [
    "with open('rosalind_hamm.txt') as f:\n",
    "    s = f.readline()\n",
    "    t = f.readline()\n",
    "s = s.strip()\n",
    "t = t.strip()"
   ]
  },
  {
   "cell_type": "code",
   "execution_count": 20,
   "id": "2fda08c9",
   "metadata": {},
   "outputs": [
    {
     "data": {
      "text/plain": [
       "492"
      ]
     },
     "execution_count": 20,
     "metadata": {},
     "output_type": "execute_result"
    }
   ],
   "source": [
    "s = list(s)\n",
    "t = list(t)\n",
    "count = [1 for i in range(len(s)) if s[i] != t[i] ]\n",
    "sum(count)"
   ]
  },
  {
   "cell_type": "markdown",
   "id": "d04694a0",
   "metadata": {},
   "source": [
    "# Finding a Shared Motif \n",
    "\n",
    "Problem\n",
    "A common substring of a collection of strings is a substring of every member of the collection. We say that a common substring is a longest common substring if there does not exist a longer common substring. For example, \"CG\" is a common substring of \"ACGTACGT\" and \"AACCGTATA\", but it is not as long as possible; in this case, \"CGTA\" is a longest common substring of \"ACGTACGT\" and \"AACCGTATA\".\n",
    "\n",
    "Note that the longest common substring is not necessarily unique; for a simple example, \"AA\" and \"CC\" are both longest common substrings of \"AACC\" and \"CCAA\".\n",
    "\n",
    "Given: A collection of k (k≤100) DNA strings of length at most 1 kbp each in FASTA format.\n",
    "\n",
    "Return: A longest common substring of the collection. (If multiple solutions exist, you may return any single solution.)"
   ]
  },
  {
   "cell_type": "code",
   "execution_count": 21,
   "id": "d423b429",
   "metadata": {},
   "outputs": [],
   "source": [
    "with open('rosalind_lcsm.txt') as f:\n",
    "    data = f.read()\n",
    "data = data.replace('\\n', '')\n",
    "data = data.replace('Rosalind_', '')\n",
    "data = data.split('>')\n",
    "data = data[1:]"
   ]
  },
  {
   "cell_type": "code",
   "execution_count": 22,
   "id": "e33a9c7d",
   "metadata": {},
   "outputs": [
    {
     "name": "stdout",
     "output_type": "stream",
     "text": [
      "GATCTGTTTGTTCCCGTCCTGTTCATAACAACGCCAAGGAATTTGGGCTAAGGCTGGCTATGTGGGGCAAAGAATCACTGGAAAGCCGTTCATCTTATAAATGCGCCATTAGAACGTTTCGAGGAGCCTATGAAATCCCACCGTACAGATAAAAGGGCGGATAATAGGGTAGATTCTGGGGTGCCTGTTCCGCCCGTTAAGAGCCGCCTTGAAATCGACCCAACAAGGATGTAGGGCTCTTAAGCGCATATGTCGCTTAAATGCTAAGCCACAGCTAGAGCCCACGTATTATCACAG\n"
     ]
    }
   ],
   "source": [
    "def long_substr(data):\n",
    "    substrs = lambda x: {x[i:i+j] for i in range(len(x)) for j in range(len(x) - i + 1)}\n",
    "    s = substrs(data[0])\n",
    "    for val in data[1:]:\n",
    "        s.intersection_update(substrs(val))\n",
    "    return max(s, key=len)\n",
    "\n",
    "def is_substr(find, data):\n",
    "    if len(data) < 1 and len(find) < 1:\n",
    "        return False\n",
    "    for i in range(len(data)):\n",
    "        if find not in data[i]:\n",
    "            return False\n",
    "    return True\n",
    "print(long_substr(data))"
   ]
  },
  {
   "cell_type": "markdown",
   "id": "4880e800",
   "metadata": {},
   "source": [
    "# Overlap Graphs \n",
    "\n",
    "Problem\n",
    "A graph whose nodes have all been labeled can be represented by an adjacency list, in which each row of the list contains the two node labels corresponding to a unique edge.\n",
    "\n",
    "A directed graph (or digraph) is a graph containing directed edges, each of which has an orientation. That is, a directed edge is represented by an arrow instead of a line segment; the starting and ending nodes of an edge form its tail and head, respectively. The directed edge with tail v and head w is represented by (v,w) (but not by (w,v)). A directed loop is a directed edge of the form (v,v).\n",
    "\n",
    "For a collection of strings and a positive integer k, the overlap graph for the strings is a directed graph Ok in which each string is represented by a node, and string s is connected to string t with a directed edge when there is a length k suffix of s that matches a length k prefix of t, as long as s≠t; we demand s≠t to prevent directed loops in the overlap graph (although directed cycles may be present).\n",
    "\n",
    "Given: A collection of DNA strings in FASTA format having total length at most 10 kbp.\n",
    "\n",
    "Return: The adjacency list corresponding to O3. You may return edges in any order.\n",
    "\n"
   ]
  },
  {
   "cell_type": "code",
   "execution_count": 23,
   "id": "801c7d7f",
   "metadata": {},
   "outputs": [],
   "source": [
    "k = 3\n",
    "data = {}\n",
    "with open('rosalind_grph.txt') as file:\n",
    "    line = file.readline().rstrip()\n",
    "    while line:\n",
    "        if line.startswith('>'):\n",
    "            name = line[1:]\n",
    "            data[name] = []\n",
    "        else:\n",
    "            data[name].append(line)\n",
    "        line = file.readline().rstrip()\n",
    "for i in data.keys():\n",
    "    data[i] = ''.join(data[i])"
   ]
  },
  {
   "cell_type": "code",
   "execution_count": 24,
   "id": "f28826b5",
   "metadata": {},
   "outputs": [],
   "source": [
    "answer = []\n",
    "for i in data.keys():\n",
    "    for j in data.keys():\n",
    "        if i != j and data[j][:3] == data[i][-3:]:\n",
    "            answer.append(' '.join([i, j]))\n",
    "\n",
    "with open('answer.txt', 'w') as file:\n",
    "    file.write('\\n'.join(answer))"
   ]
  },
  {
   "cell_type": "markdown",
   "id": "bccdbf3f",
   "metadata": {},
   "source": [
    "# The Genetic Code\n",
    "\n",
    "Problem  \n",
    "The 20 commonly occurring amino acids are abbreviated by using 20 letters from the English alphabet (all letters except for B, J, O, U, X, and Z). Protein strings are constructed from these 20 symbols. Henceforth, the term genetic string will incorporate protein strings along with DNA strings and RNA strings.\n",
    "\n",
    "The RNA codon table dictates the details regarding the encoding of specific codons into the amino acid alphabet.\n",
    "\n",
    "Given: An RNA string s corresponding to a strand of mRNA (of length at most 10 kbp).\n",
    "\n",
    "Return: The protein string encoded by s."
   ]
  },
  {
   "cell_type": "code",
   "execution_count": 25,
   "id": "8471f5de",
   "metadata": {},
   "outputs": [],
   "source": [
    "with open('rosalind_prot.txt') as f:\n",
    "    dna = f.read()\n",
    "dna = dna.strip()"
   ]
  },
  {
   "cell_type": "code",
   "execution_count": 26,
   "id": "a813d114",
   "metadata": {},
   "outputs": [
    {
     "name": "stdout",
     "output_type": "stream",
     "text": [
      "MARARCTTKKFKSDISDGLSAKHRLGKLKSRYSRARNAPTKKCNFRSDLLALLLSVGIACGPPPTKKHTLFDPKHYAAETRCALRRGAPHSMIIQCQHTGQMCSRCPDRASCTLATGLSSLQTRALCSLASNRFKKSQIGRDVPHDIADKSHNLVVMPPIPETWLGTVGTSHSPPSDNRCGLITWHRRSDPPPQRRASSRHREIEPARLANCDRSPSEERLTSIEDNDRGGRQIDVVRWVQRCTKRIALRWLLPIRRQWPAALRGFQAKQDALILLPPSSKHVCVILIHTREAAVRSECPNADPRSPQHFWITPIYGSTRKRWKITRAASQSMYHLAPEDYLRPNRRLHSSLQFTYNPQHLRGSFPKIRVERKQLCDRFVDYPLTLGVELISCALASVTPVINRGEITRVHVFKSNLNRDDEHKPYVLSTPQILLRSAAQRTDVQPCETIQSTKFPIACYFDSSGIFLFRIAVWGGPEIRLIIPNALTVGLLVLSLWAGLNHFWKYLLRIRFCLKDTVKPPVNVAPVGRLLSARSLLLSILMSKRITRYVRLGSNSHDNCVSRLWYVSYSLRKLRNSSTARNTIVTSKVSFPRVIKHGRASRRVDRARKDRTEFDAYARTYEIVYGTEYYVTVSLHKSPFWVSSYSTDLLYINLALQMGYPDPTIRVPILGRIQIAVLRRSNALLLNMTITYRGIGGPYVFPTCPGVQSTVFYFFCFEINVLPHISQDAIKYTPLSNGELFSGLPRRTPIICFLLPSKLYGLNLLSSTIGHMVLDGRTDTRREIDTSSIRIPFSFFSYPEGLIDVYRLPCQRLPSLVSIGTDLNNVGLTPPRLGVIHLSGSSSTSHLQICQDGSSLKRFGHEQWIGVQVDVLGGLRPVLVKSAAYGLPWRNGSRPPHDYACTSIVTELFLDPVLRGRYPHITTYMYRNVVTLPVTLRWVAQSRSAAHDNYTYPVRASTSPKPDTKEELRDRLVQVAGPYRCVLLFGIALSGGCRCLESRHLSITSWKLQDILKVALFKCYGIGPKVGPWSDSRFIAANNQRLRVLLEFVLFSYTIIKPTERYHWSTGIPILGRHASHLMHVCLRPTHGNDTGFAQALGTQVKVASKKGATLQWAVTYMRSDITGSWTGYDTEIACHLSSTRLLVTHLPRRLGGQAPPGRGLGSQFDTVCLACLGATGRTPQVCGVGRVKANYCDSFQITLDLIAVAKQYGSGSLRCLLNAPIFGPNRYGLSRHPQYTFDYCSPTFGNSCIVGSNLKNDRAPLRLGLDSKHVGRSPRRRSVRAKGPVNRWSLWWSSLRLPDPVLGLYTRSGRMTTLRTEKFSLSRLRLTLRRVRELQRDDEPRLLALLRLPRSLITEICHTTAAGGGAHPGTALRSSTETTGLLALLSRAYYIASAVALRKTADLRRDDSSRQKATRSYLLGEGSAYLNFNHLRGDAGKNASGRHAYKAVAIFYSRPASLTNFPSQVLKPHLSPHLQSRLDPRIREPWLRNVSHDQKCQEQNTGGIPTVLRQQRCLSMFTKAVQAIGYDQPEPAGAGILTMVSVQVMTTLEGIEDRILVRRITSKHKAFALLVGPLTRRVHWSTPEGDCWSSPCGANNCADHYKSEIINGLYLLKTQGPIQLPRTSSTLTSGPEFAPVKCVCVDVAARITTQQISKILSLGSKTSCSGRHFALFGSIVSAQLCPTQYPEHSDVFTPWGFLNHPGYSETATKWRSSDRRAACACQQKVISYSCMVTCSVTGVICSPGLHVLLLKPHLCEFFRNESLEVISQSAQSPDSWPLSYHCTFLLWSLIAKQSEYLLSLLLRWRYGLFSLWNMLVGCYCVRYQATPSLLLNVSRSVVPVTDVDAGANDRRYMSFTQTLHICPHARILALLRVDITQLSLCEQHCGHGAGFGKLLSYNRLHSEMNNIFRPSEVVLRRENCGMTSARCIPYPLLVCASTVPQVVSNETMQWSLDLRYAVLESQTGQVKGQVHSGGTQEPVKEQFVFVLIGYALSIACRLRPLEIDKGSVTIGVIFPYQLKTGVVLLISVTAHKHPIRAASFLRRSIARLTRPSFICAYKPLIKISPSLHTPATRFVDQSDPTARSSWYRCLRSMKAYRSYFHSAATDEIRLYRFMSNPLSGAHTRGNFWCSRLGGVCHRCISSSRQAVGQFGISLAYSQRYPIRLIGKARDTGEKHGQAQRHNQSFPDSAAPPPHLLQITADPQVDFFLIVTRNRGERLFLYNWKDLFLAREVRQCPWRNDAPITLRPRLPAVTLLAEIHTILENPRGVSITNGPQMEKDPDSLSYQRGRPPFTPNASTEPDGCPVPGLPQGIYVTLRYVDWRYSYPPGTATIRVNFHGLLGETASRDYIHRSGHITSKFCGVSLGEYPLLGDIIDVGIICLHGHLRHPRTVSPVYWPANPYTEVIAGTWCQSLYKVRVVVPGVVERVSEAIVFHHVSMLLVKCQGPRAKYWTQGAGWSAWVSRPLASCMVTLSVAIITSPPPTQINCTVSNAGSACLRRPCLKHARHISIILDGTGMRRIAPYIRGSIIVTLMETRGTEWLPSAHSDRGLYKTWGPTTEPVLLLYDVQDLIWRIIGPYDRNCEATEGMQHSAIDSTYLKLGGPRGLGGFMTKYKERRRRFRNVTMVSSSAVIEPPGAGAPGAPLRLTVFGLLLKQAYPTSRHVRCRPQGHMECPLGIGHGYRCRSGSGIDGGARPPVPCRGLAICGYLRALGIRLLTALFCLGISTGKSMPQDWRMSTMRQASTFRMSDAAHISDYTTISRYVALCESPLTSIGQTHYRGPAENVSSLARVKVSLLRCR\n"
     ]
    }
   ],
   "source": [
    "protein = {'UUU':'F', 'CUU': 'L', 'AUU': 'I', 'GUU': 'V', 'UUC': 'F', 'CUC': 'L', 'AUC': 'I', 'GUC': 'V', \n",
    "           'UUA': 'L', 'CUA': 'L', 'AUA': 'I', 'GUA': 'V', 'UUG': 'L', 'CUG': 'L', 'AUG': 'M', 'GUG': 'V',\n",
    "           'UCU': 'S', 'CCU': 'P', 'ACU': 'T', 'GCU': 'A', 'UCC': 'S', 'CCC': 'P', 'ACC': 'T', 'GCC': 'A',\n",
    "           'UCA': 'S', 'CCA': 'P', 'ACA': 'T', 'GCA': 'A', 'UCG': 'S', 'CCG': 'P', 'ACG': 'T', 'GCG': 'A',\n",
    "           'UAU': 'Y', 'CAU': 'H', 'AAU': 'N', 'GAU': 'D', 'UAC': 'Y', 'CAC': 'H', 'AAC': 'N', 'GAC': 'D',\n",
    "           'UAA': 'Stop', 'CAA': 'Q', 'AAA': 'K', 'GAA': 'E', 'UAG': 'Stop', 'CAG': 'Q', 'AAG': 'K', 'GAG': 'E',\n",
    "           'UGU': 'C', 'CGU': 'R', 'AGU': 'S', 'GGU': 'G', 'UGC': 'C', 'CGC': 'R', 'AGC': 'S', 'GGC': 'G',\n",
    "           'UGA': 'Stop', 'CGA': 'R', 'AGA': 'R', 'GGA': 'G', 'UGG': 'W', 'CGG': 'R', 'AGG': 'R', 'GGG': 'G'} \n",
    "\n",
    "k = 0\n",
    "ps = []\n",
    "for i in range(3, len(dna)+1, 3):\n",
    "    p = protein[dna[k:i]]\n",
    "    if p != 'Stop':\n",
    "        ps.append(p)\n",
    "    k = i\n",
    "\n",
    "print(''.join(ps))"
   ]
  },
  {
   "cell_type": "markdown",
   "id": "6fcfb8a5",
   "metadata": {},
   "source": [
    "# The Secondary and Tertiary Structures of DNA\n",
    "\n",
    "In DNA strings, symbols 'A' and 'T' are complements of each other, as are 'C' and 'G'.\n",
    "\n",
    "The reverse complement of a DNA string s is the string sc formed by reversing the symbols of s, then taking the complement of each symbol (e.g., the reverse complement of \"GTCA\" is \"TGAC\").\n",
    "\n",
    "Given: A DNA string s of length at most 1000 bp.\n",
    "\n",
    "Return: The reverse complement sc of s."
   ]
  },
  {
   "cell_type": "code",
   "execution_count": 27,
   "id": "2914ad01",
   "metadata": {},
   "outputs": [],
   "source": [
    "with open('rosalind_revc.txt') as f:\n",
    "    s = f.readline()\n",
    "s = s.strip()"
   ]
  },
  {
   "cell_type": "code",
   "execution_count": 28,
   "id": "2626f74d",
   "metadata": {},
   "outputs": [
    {
     "name": "stdout",
     "output_type": "stream",
     "text": [
      "CCCACGTTGTCCGCTTCCCTTTCGCTTACGGCCGTTCTGACACGTTTTCCAACGGCTGACATATCCCCCAAAGAATATTGATCAGTCATCATCACGGCGAGCGTATGAAAGTTAAGGTGCCGCAGAACGAGAGTCGTGTCTCACGACTGGTTGGGGGGCTGCGATCGCACCGGAATAGTAGAAGTACTGGTCATTATTTTTATGCGCCAGTACAACATGACGGGGACTATGCCAGCCCGAACAAGTTTGGACGAACCTGAGACGATCGACTATGGGGAGTTGAGAATCTTAGAAACGAGTTGAGCGCTTCGTGCATACATATCTTGCCTTCCGAACTGATTCAATCTATCCGGGACTGGTAGTTCCGACTGTGGCAATTCCTATAAATAATGCATACATGCTCTCGTAGCTGTGGGCTTGTTTTGGCTTAGCGTAACACACGGAGTGGCCTTAGCAATCCGCGGATTTTGATCAGGAGGATATCCTGTCAGAGCACCCAGGGTCAAATGTTGAGCTAGCTTGATAGATTTTTGGTCACCAAAGCTTATTAGACTACTCATCCGGGCTGGAACGGGGAGGTTAACAACCTCTTTCGCTTGCCATATTGCCGCGCCCGACTCAAGCCTGGGATACATGGTGCGGATACAGAAGCTTGTTCATAAGCAGATGACCGGCGGCGTTCTCCCGGTATCGTTCGTATGCCTGTCACTAGCGCCACCCATACCGTATCTGACACCATGCTGCGGCTGCAAGTGCGCCCGGGAAAGAGAGCAGTCGTAATTGGCACGCCACGTGGACCGTACATTCGGAAGCACTTATCGGTTTGTCAGTAGCTAGGGGAAAAGCCCTCACAATCCACTGGACGGCGCCAGTATGTAGATTCAGGCCGTCAGACAGATCCAACGTATCGCATTATATCAGTGCTTTAC\n"
     ]
    }
   ],
   "source": [
    "translation = s.maketrans('ATCG', 'TAGC')\n",
    "complement = s.translate(translation)\n",
    "reverse_complement = complement[::-1]\n",
    "print(reverse_complement)"
   ]
  },
  {
   "cell_type": "markdown",
   "id": "067c01de",
   "metadata": {},
   "source": [
    "# Transcribing DNA into RNA\n",
    "\n",
    "Problem  \n",
    "An RNA string is a string formed from the alphabet containing 'A', 'C', 'G', and 'U'.\n",
    "\n",
    "Given a DNA string t corresponding to a coding strand, its transcribed RNA string u is formed by replacing all occurrences of 'T' in t with 'U' in u.\n",
    "\n",
    "Given: A DNA string t having length at most 1000 nt.\n",
    "\n",
    "Return: The transcribed RNA string of t."
   ]
  },
  {
   "cell_type": "code",
   "execution_count": 29,
   "id": "d0e9f321",
   "metadata": {},
   "outputs": [],
   "source": [
    "with open('rosalind_rna.txt') as f:\n",
    "    dna = f.readline()"
   ]
  },
  {
   "cell_type": "code",
   "execution_count": 30,
   "id": "649ece3b",
   "metadata": {},
   "outputs": [
    {
     "name": "stdout",
     "output_type": "stream",
     "text": [
      "ACGGCGAAUUUCGUGUGCUUCUGGACGGAGGAGAGUUCUCUAGUACUCCAUGGUCAUCAUCUAGUAGCUGCGACGGAUUCAGGCCCUGUUUACAAGGAACGGGACUCUCGCAUCUGCCCGAUGCACGGAGGAAUAUCUAUGACCUCGUUUAGGAUAACAUGUUUUCCUCUUUAGGCGCCAGCUUCCGCACGUUAACAUGUCAUACAUGUAUUCUAUGUCGUUGCAACUCGAUCAUAUGGUCGGGCAAGCGGCUGUUGUGAGCCUAUGCCCACCCUUUCUACGGGGCUUCUAUACAGAGGUUUUCUACGAAAAGCGUGGUUGUUGAUCUCGGCGCUUCACUACAGUGGUAGUUUCCGACUUCACGUGGCACUACAGCCACAGCAUCAGUGACGACGCGACCCAGUAUGCCCGAUAAUUCGGAAAUCGCGCCCCUUCCUCGUCUUUUCAGUCUCGGAUUUAGCCAGAUCGUCAGGAGUACAAGUAGGAAAGCCUCUCUGCUCACUCCUUAGAUAGGUUGCUUUGCCUGUGCUCUGGCCGUUGUAUGCGCUUAUCGUAGAACUAGCGGGCUGUGCAUAAAUUUAUAGAAGACAGACGUAAGCUGUGAAGCAGAACGUUAAACCAGAGCCAGAUACACGUCGUUUUACUUCUCCCCUCAAGCCAACCAGUCCCUAGUUAAGAAUGCUCCCGGGGUCUCGCGGCUCAGCGAAAACCCAGAAGGCGACCUAAUACGCCUAGGCCAUUGCCACGGAAGAUUCUUGCCCUUUUGUCUGCACUGUAGGCUCUUGUUUCACUGUGUGGGGCACUUGUGAUGCACGUCUGCAUUACAGGACCAUUGUGUGCUUCGGCCGGAACGAGUGUUUUGCAUGGAGCACCGUCGUUGCGUAAGCCCAGUGAAUCUUCCAAUUCAAAGAUUCCGAACGGUGACCUCCACCUCUCGCUAUGCGUCGUGCCUUAUAGCUCAGCUGUUGCG\n",
      "\n"
     ]
    }
   ],
   "source": [
    "rna = dna.replace('T', 'U')\n",
    "print(rna)"
   ]
  },
  {
   "cell_type": "markdown",
   "id": "1e87d0f2",
   "metadata": {},
   "source": [
    "# Transitions and Transversions\n",
    "\n",
    "Problem  \n",
    "For DNA strings s1 and s2 having the same length, their transition/transversion ratio R(s1,s2) is the ratio of the total number of transitions to the total number of transversions, where symbol substitutions are inferred from mismatched corresponding symbols as when calculating Hamming distance (see “Counting Point Mutations”).\n",
    "\n",
    "Given: Two DNA strings s1 and s2 of equal length (at most 1 kbp).\n",
    "\n",
    "Return: The transition/transversion ratio R(s1,s2)."
   ]
  },
  {
   "cell_type": "code",
   "execution_count": 31,
   "id": "55b375da",
   "metadata": {},
   "outputs": [],
   "source": [
    "with open('rosalind_tran.txt') as f:\n",
    "    file = f.read().split('>')\n",
    "file = file[1:]"
   ]
  },
  {
   "cell_type": "code",
   "execution_count": 32,
   "id": "6e5c3b76",
   "metadata": {},
   "outputs": [
    {
     "data": {
      "text/plain": [
       "1.7096774193548387"
      ]
     },
     "execution_count": 32,
     "metadata": {},
     "output_type": "execute_result"
    }
   ],
   "source": [
    "s = file[0][13:].replace('\\n', '')\n",
    "t = file[1][13:].replace('\\n', '')\n",
    "s = list(s)\n",
    "t = list(t)\n",
    "hd = [1 for i in range(len(s)) if s[i] != t[i]]\n",
    "transition = [1 for i in range(len(s)) if (s[i] == 'A' and  t[i] == 'G') or (t[i] == 'A' and  s[i] == 'G') or\n",
    "             (s[i] == 'C' and  t[i] == 'T') or (t[i] == 'C' and  s[i] == 'T')]\n",
    "\n",
    "sum(transition)/(sum(hd) - sum(transition))"
   ]
  },
  {
   "cell_type": "markdown",
   "id": "c126e76d",
   "metadata": {},
   "source": [
    "# Wascally Wabbits\n",
    "\n",
    "Problem  \n",
    "A sequence is an ordered collection of objects (usually numbers), which are allowed to repeat. Sequences can be finite or infinite. Two examples are the finite sequence (π,−2–√,0,π) and the infinite sequence of odd numbers (1,3,5,7,9,…). We use the notation an to represent the n-th term of a sequence.\n",
    "\n",
    "A recurrence relation is a way of defining the terms of a sequence with respect to the values of previous terms. In the case of Fibonacci's rabbits from the introduction, any given month will contain the rabbits that were alive the previous month, plus any new offspring. A key observation is that the number of offspring in any month is equal to the number of rabbits that were alive two months prior. As a result, if Fn represents the number of rabbit pairs alive after the n-th month, then we obtain the Fibonacci sequence having terms Fn that are defined by the recurrence relation Fn=Fn−1+Fn−2 (with F1=F2=1 to initiate the sequence). Although the sequence bears Fibonacci's name, it was known to Indian mathematicians over two millennia ago.\n",
    "\n",
    "When finding the n-th term of a sequence defined by a recurrence relation, we can simply use the recurrence relation to generate terms for progressively larger values of n. This problem introduces us to the computational technique of dynamic programming, which successively builds up solutions by using the answers to smaller cases.\n",
    "\n",
    "Given: Positive integers n≤40 and k≤5.\n",
    "\n",
    "Return: The total number of rabbit pairs that will be present after n months, if we begin with 1 pair and in each generation, every pair of reproduction-age rabbits produces a litter of k rabbit pairs (instead of only 1 pair)."
   ]
  },
  {
   "cell_type": "code",
   "execution_count": 33,
   "id": "4302d07a",
   "metadata": {},
   "outputs": [],
   "source": [
    "with open('rosalind_fib.txt') as f:\n",
    "    s = f.readline()\n",
    "s = s.strip()"
   ]
  },
  {
   "cell_type": "code",
   "execution_count": 35,
   "id": "0de6404e",
   "metadata": {},
   "outputs": [
    {
     "data": {
      "text/plain": [
       "1850229480761"
      ]
     },
     "execution_count": 35,
     "metadata": {},
     "output_type": "execute_result"
    }
   ],
   "source": [
    "n, k = s.split()\n",
    "def fib(n, k):\n",
    "    if n == 0 or n == 1:\n",
    "        return 1\n",
    "    else: \n",
    "        return (fib(n-1, k) + k * fib(n-2, k))\n",
    "    \n",
    "fib(int(n)-1, int(k))"
   ]
  },
  {
   "cell_type": "code",
   "execution_count": null,
   "id": "0e020694",
   "metadata": {},
   "outputs": [],
   "source": []
  }
 ],
 "metadata": {
  "kernelspec": {
   "display_name": "Python 3 (ipykernel)",
   "language": "python",
   "name": "python3"
  },
  "language_info": {
   "codemirror_mode": {
    "name": "ipython",
    "version": 3
   },
   "file_extension": ".py",
   "mimetype": "text/x-python",
   "name": "python",
   "nbconvert_exporter": "python",
   "pygments_lexer": "ipython3",
   "version": "3.8.12"
  }
 },
 "nbformat": 4,
 "nbformat_minor": 5
}
